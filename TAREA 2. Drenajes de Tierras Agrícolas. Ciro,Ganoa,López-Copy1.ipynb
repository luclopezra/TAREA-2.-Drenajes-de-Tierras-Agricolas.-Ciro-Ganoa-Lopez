{
 "cells": [
  {
   "cell_type": "markdown",
   "metadata": {},
   "source": [
    "**Drenaje de Tierras Agricolas-Trabajo 2. Ciro,Ganoa,López**\n"
   ]
  },
  {
   "cell_type": "markdown",
   "metadata": {},
   "source": [
    "Se tiene una presa cuya altura es de 20m, en la mitad se encuentra un muro de contención a una profundidad de 5m, con una longitud de 15m. Al lado derecho de la presa el nivel de agua se encuentra a 5m, y al lado izquierdo el nivel de agua es de 10m. Se debe hallar el potencial hidirico en cada uno de los nodos según la malla que se seleccione."
   ]
  },
  {
   "cell_type": "markdown",
   "metadata": {},
   "source": [
    "*La longitud de la presa asumida es asumida por nosotros*\n",
    "**$$L=55m$$**\n",
    "*La malla*\n",
    "**$$dx=5m$$**\n",
    "**$$dy=5m$$**"
   ]
  },
  {
   "cell_type": "markdown",
   "metadata": {},
   "source": [
    "Con la ecuación de LaPlace y a traves de la discretización por medio de diferencias finitas se procede a solucionar el problema."
   ]
  },
  {
   "cell_type": "raw",
   "metadata": {},
   "source": [
    "Se llaman las librerias."
   ]
  },
  {
   "cell_type": "code",
   "execution_count": 2,
   "metadata": {},
   "outputs": [],
   "source": [
    "import numpy as np \n",
    "import matplotlib.pyplot as plt"
   ]
  },
  {
   "cell_type": "raw",
   "metadata": {},
   "source": [
    "Se define la longitud y altura de la presa."
   ]
  },
  {
   "cell_type": "code",
   "execution_count": 3,
   "metadata": {},
   "outputs": [],
   "source": [
    "Lx=55\n",
    "Ly=20"
   ]
  },
  {
   "cell_type": "code",
   "execution_count": 4,
   "metadata": {},
   "outputs": [],
   "source": [
    "#Condiciones de frontera \n",
    "H49,H50,H51,H52,H53=30,30,30,30,30 #Arriba\n",
    "H54,H55= 0,0 #Arriba\n",
    "H56,H57,H58,H59,H60=25,25,25,25,25 #Arriba"
   ]
  },
  {
   "cell_type": "raw",
   "metadata": {},
   "source": [
    "Discretización"
   ]
  },
  {
   "cell_type": "code",
   "execution_count": 5,
   "metadata": {},
   "outputs": [],
   "source": [
    "Nx=12\n",
    "dx=Lx/(Nx-1)\n",
    "x=np.linspace(0,Lx,Nx)\n",
    "\n",
    "Ny=5\n",
    "dy=Ly/(Ny-1)\n",
    "y=np.linspace(0,Ly,Ny)"
   ]
  },
  {
   "cell_type": "raw",
   "metadata": {},
   "source": [
    "Se define la malla "
   ]
  },
  {
   "cell_type": "code",
   "execution_count": 6,
   "metadata": {},
   "outputs": [
    {
     "data": {
      "image/png": "[encoded data removed]",
      "text/plain": [
       "<Figure size 432x288 with 1 Axes>"
      ]
     },
     "metadata": {
      "needs_background": "light"
     },
     "output_type": "display_data"
    }
   ],
   "source": [
    "xmesh, ymesh=np.meshgrid(x,y,indexing='ij')\n",
    "plt.scatter(xmesh,ymesh)\n",
    "plt.show()"
   ]
  },
  {
   "cell_type": "code",
   "execution_count": 7,
   "metadata": {},
   "outputs": [],
   "source": [
    "#Matrtices\n",
    "N=Nx*Ny\n",
    "A=np.zeros((N,N))\n",
    "b=np.zeros(N)\n"
   ]
  },
  {
   "cell_type": "code",
   "execution_count": 8,
   "metadata": {},
   "outputs": [],
   "source": [
    "for i in range (Nx):\n",
    "    for j in range(Ny):\n",
    "        n=i+j*Nx\n",
    "        #Esquina 1\n",
    "        if i==0 and j==0:\n",
    "            A [n] [n]=1/dx**2+1/dy**2\n",
    "            A [n] [n+1]=-2/dx**2\n",
    "            A [n] [n+2]=1/dx**2\n",
    "            A [n] [n+Nx]=-2/dy**2\n",
    "            A [n] [n+2*Nx]=1/dy**2\n",
    "            b [n]=0\n",
    "         #Esquina 2\n",
    "        elif i==Nx-1 and j==0:\n",
    "            A [n] [n]=1/dx**2+1/dy**2\n",
    "            A [n] [n-1]=-2/dx**2\n",
    "            A [n] [n-2]=1/dx**2\n",
    "            A [n] [n+Nx]=-2/dy**2\n",
    "            A [n] [n+2*Nx]=1/dy**2  \n",
    "            b [n]=0\n",
    "        #Esquina 3\n",
    "        elif i==Nx-1 and j==Ny-1:\n",
    "            A [n] [n]=1/dx**2+1/dy**2\n",
    "            A [n] [n-1]=-2/dx**2\n",
    "            A [n] [n-2]=1/dx**2\n",
    "            A [n] [n-Nx]=-2/dy**2\n",
    "            A [n] [n-2*Nx]=1/dy**2  \n",
    "            b [n]=0\n",
    "         #Esquina 4\n",
    "        elif i==0 and j==Ny-1:\n",
    "            A [n] [n]=1/dx**2+1/dy**2\n",
    "            A [n] [n+1]=-2/dx**2\n",
    "            A [n] [n+2]=1/dx**2\n",
    "            A [n] [n-Nx]=-2/dy**2\n",
    "            A [n] [n-2*Nx]=1/dy**2  \n",
    "            b [n]=0\n",
    "            \n",
    "            \n",
    "        #Lado 1\n",
    "        elif 0<i<Nx-1 and j==0:\n",
    "            A [n] [n] =1\n",
    "            b [n]=H50\n",
    "        #Lado 2\n",
    "        elif i==Nx-1 and 0<j<Ny-1:\n",
    "            A [n] [n] =1\n",
    "            b [n]=24\n",
    "        \n",
    "        #Lado 3\n",
    "        elif 0<i<Nx-1 and j==Ny-1:\n",
    "            A [n] [n] =1\n",
    "            b [n]=22\n",
    "        #Lado 4\n",
    "        elif i==0 and 0<j<Ny-1:\n",
    "            A [n] [n] =1\n",
    "            b [n]=27\n",
    "        #nodos centrales\n",
    "        else:\n",
    "            A [n] [n]=-2/dx**2-2/dy**2\n",
    "            A [n] [n+1]=1/dx**2\n",
    "            A [n] [n-1]=1/dx**2\n",
    "            A [n] [n+Nx]=1/dy**2\n",
    "            A [n] [n-Nx]=1/dy**2"
   ]
  },
  {
   "cell_type": "raw",
   "metadata": {},
   "source": [
    "Operación entre la matriz inversa de la malla y la de valores conocidos"
   ]
  },
  {
   "cell_type": "code",
   "execution_count": 9,
   "metadata": {},
   "outputs": [],
   "source": [
    "H=np.dot(np.linalg.inv(A),b)\n",
    "Hmesh=np.zeros((Ny,Nx))"
   ]
  },
  {
   "cell_type": "markdown",
   "metadata": {},
   "source": [
    "*Potencuales Hidrícos en todos los puntos en (m)*"
   ]
  },
  {
   "cell_type": "markdown",
   "metadata": {},
   "source": [
    "Matriir mostrada como malla"
   ]
  },
  {
   "cell_type": "code",
   "execution_count": 10,
   "metadata": {},
   "outputs": [
    {
     "name": "stdout",
     "output_type": "stream",
     "text": [
      "[[28.5 30.  30.  30.  30.  30.  30.  30.  30.  30.  30.  27. ]\n",
      " [27.  27.9 28.1 28.  28.  28.  28.  27.9 27.8 27.5 26.6 24. ]\n",
      " [27.  26.5 26.3 26.1 26.  26.  26.  25.9 25.7 25.5 24.9 24. ]\n",
      " [27.  25.  24.3 24.1 24.  24.  24.  23.9 23.9 23.8 23.7 24. ]\n",
      " [24.5 22.  22.  22.  22.  22.  22.  22.  22.  22.  22.  23. ]]\n"
     ]
    }
   ],
   "source": [
    "for n in range (N):\n",
    "    i=n%Nx\n",
    "    j=n//Nx\n",
    "    Hmesh[j][i]=H[n]\n",
    "print(np.round(Hmesh,1))"
   ]
  },
  {
   "cell_type": "code",
   "execution_count": 11,
   "metadata": {},
   "outputs": [
    {
     "data": {
      "image/png": "[encoded data removed]",
      "text/plain": [
       "<Figure size 432x288 with 1 Axes>"
      ]
     },
     "metadata": {
      "needs_background": "light"
     },
     "output_type": "display_data"
    }
   ],
   "source": [
    "plt.scatter(xmesh,ymesh)       \n",
    "plt.show ()"
   ]
  }
 ],
 "metadata": {
  "kernelspec": {
   "display_name": "Python 3",
   "language": "python",
   "name": "python3"
  },
  "language_info": {
   "codemirror_mode": {
    "name": "ipython",
    "version": 3
   },
   "file_extension": ".py",
   "mimetype": "text/x-python",
   "name": "python",
   "nbconvert_exporter": "python",
   "pygments_lexer": "ipython3",
   "version": "3.7.6"
  }
 },
 "nbformat": 4,
 "nbformat_minor": 4
}
